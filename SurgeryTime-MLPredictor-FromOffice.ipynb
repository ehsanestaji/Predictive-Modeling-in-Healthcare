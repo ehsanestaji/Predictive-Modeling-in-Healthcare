{
 "cells": [
  {
   "cell_type": "code",
   "execution_count": 2,
   "id": "baebb4c1-6e99-4397-be05-f3b3a3aa632d",
   "metadata": {
    "ExecuteTime": {
     "end_time": "2023-10-18T14:09:37.811208889Z",
     "start_time": "2023-10-18T14:09:37.756661851Z"
    }
   },
   "outputs": [
    {
     "data": {
      "text/plain": "     bmi   Age  asa_status  baseline_cancer  baseline_charlson  baseline_cvd  \\\n0  19.31  59.2           1                1                  0             0   \n1  18.73  59.1           0                0                  0             0   \n2  21.85  59.0           0                0                  0             0   \n3  18.49  59.0           1                0                  1             0   \n4  19.70  59.0           1                0                  0             0   \n\n   baseline_dementia  baseline_diabetes  baseline_digestive  \\\n0                  0                  0                   0   \n1                  0                  0                   0   \n2                  0                  0                   0   \n3                  0                  1                   1   \n4                  0                  0                   0   \n\n   baseline_osteoart  ...  complication_rsi  dow  gender   hour  month  \\\n0                  0  ...             -0.57    3       0   7.63      6   \n1                  0  ...              0.21    0       0  12.93      0   \n2                  0  ...              0.00    2       0   7.68      5   \n3                  0  ...             -0.65    2       1   7.58      4   \n4                  0  ...              0.00    0       0   7.88     11   \n\n   moonphase  mort30  mortality_rsi  race  complication  \n0          1       0          -0.43     1             0  \n1          1       0          -0.41     1             0  \n2          3       0           0.08     1             0  \n3          3       0          -0.32     1             0  \n4          0       0           0.00     1             0  \n\n[5 rows x 25 columns]",
      "text/html": "<div>\n<style scoped>\n    .dataframe tbody tr th:only-of-type {\n        vertical-align: middle;\n    }\n\n    .dataframe tbody tr th {\n        vertical-align: top;\n    }\n\n    .dataframe thead th {\n        text-align: right;\n    }\n</style>\n<table border=\"1\" class=\"dataframe\">\n  <thead>\n    <tr style=\"text-align: right;\">\n      <th></th>\n      <th>bmi</th>\n      <th>Age</th>\n      <th>asa_status</th>\n      <th>baseline_cancer</th>\n      <th>baseline_charlson</th>\n      <th>baseline_cvd</th>\n      <th>baseline_dementia</th>\n      <th>baseline_diabetes</th>\n      <th>baseline_digestive</th>\n      <th>baseline_osteoart</th>\n      <th>...</th>\n      <th>complication_rsi</th>\n      <th>dow</th>\n      <th>gender</th>\n      <th>hour</th>\n      <th>month</th>\n      <th>moonphase</th>\n      <th>mort30</th>\n      <th>mortality_rsi</th>\n      <th>race</th>\n      <th>complication</th>\n    </tr>\n  </thead>\n  <tbody>\n    <tr>\n      <th>0</th>\n      <td>19.31</td>\n      <td>59.2</td>\n      <td>1</td>\n      <td>1</td>\n      <td>0</td>\n      <td>0</td>\n      <td>0</td>\n      <td>0</td>\n      <td>0</td>\n      <td>0</td>\n      <td>...</td>\n      <td>-0.57</td>\n      <td>3</td>\n      <td>0</td>\n      <td>7.63</td>\n      <td>6</td>\n      <td>1</td>\n      <td>0</td>\n      <td>-0.43</td>\n      <td>1</td>\n      <td>0</td>\n    </tr>\n    <tr>\n      <th>1</th>\n      <td>18.73</td>\n      <td>59.1</td>\n      <td>0</td>\n      <td>0</td>\n      <td>0</td>\n      <td>0</td>\n      <td>0</td>\n      <td>0</td>\n      <td>0</td>\n      <td>0</td>\n      <td>...</td>\n      <td>0.21</td>\n      <td>0</td>\n      <td>0</td>\n      <td>12.93</td>\n      <td>0</td>\n      <td>1</td>\n      <td>0</td>\n      <td>-0.41</td>\n      <td>1</td>\n      <td>0</td>\n    </tr>\n    <tr>\n      <th>2</th>\n      <td>21.85</td>\n      <td>59.0</td>\n      <td>0</td>\n      <td>0</td>\n      <td>0</td>\n      <td>0</td>\n      <td>0</td>\n      <td>0</td>\n      <td>0</td>\n      <td>0</td>\n      <td>...</td>\n      <td>0.00</td>\n      <td>2</td>\n      <td>0</td>\n      <td>7.68</td>\n      <td>5</td>\n      <td>3</td>\n      <td>0</td>\n      <td>0.08</td>\n      <td>1</td>\n      <td>0</td>\n    </tr>\n    <tr>\n      <th>3</th>\n      <td>18.49</td>\n      <td>59.0</td>\n      <td>1</td>\n      <td>0</td>\n      <td>1</td>\n      <td>0</td>\n      <td>0</td>\n      <td>1</td>\n      <td>1</td>\n      <td>0</td>\n      <td>...</td>\n      <td>-0.65</td>\n      <td>2</td>\n      <td>1</td>\n      <td>7.58</td>\n      <td>4</td>\n      <td>3</td>\n      <td>0</td>\n      <td>-0.32</td>\n      <td>1</td>\n      <td>0</td>\n    </tr>\n    <tr>\n      <th>4</th>\n      <td>19.70</td>\n      <td>59.0</td>\n      <td>1</td>\n      <td>0</td>\n      <td>0</td>\n      <td>0</td>\n      <td>0</td>\n      <td>0</td>\n      <td>0</td>\n      <td>0</td>\n      <td>...</td>\n      <td>0.00</td>\n      <td>0</td>\n      <td>0</td>\n      <td>7.88</td>\n      <td>11</td>\n      <td>0</td>\n      <td>0</td>\n      <td>0.00</td>\n      <td>1</td>\n      <td>0</td>\n    </tr>\n  </tbody>\n</table>\n<p>5 rows × 25 columns</p>\n</div>"
     },
     "execution_count": 2,
     "metadata": {},
     "output_type": "execute_result"
    }
   ],
   "source": [
    "# Importing the required libraries again due to code execution state reset\n",
    "import pandas as pd\n",
    "\n",
    "# Load the surgical dataset to understand its structure and variables\n",
    "surgical_df = pd.read_csv('SurgeryTiming.csv')\n",
    "\n",
    "# Display the first few rows of the dataframe\n",
    "surgical_df.head()\n"
   ]
  },
  {
   "cell_type": "code",
   "execution_count": 2,
   "outputs": [],
   "source": [],
   "metadata": {
    "collapsed": false,
    "ExecuteTime": {
     "end_time": "2023-10-18T14:09:38.221016638Z",
     "start_time": "2023-10-18T14:09:38.218014995Z"
    }
   },
   "id": "5bf8a26397ce3b79"
  },
  {
   "cell_type": "code",
   "execution_count": 2,
   "outputs": [],
   "source": [],
   "metadata": {
    "collapsed": false,
    "ExecuteTime": {
     "end_time": "2023-10-18T14:09:38.555382126Z",
     "start_time": "2023-10-18T14:09:38.545229208Z"
    }
   },
   "id": "60f7ed2eb908fc6d"
  },
  {
   "cell_type": "markdown",
   "source": [
    "# Dataset Description: Surgical Complications Prediction\n",
    "\n",
    "## Table of Contents\n",
    "- [Overview](#overview)\n",
    "- [Data Source](#data-source)\n",
    "- [Variables](#variables)\n",
    "  - [Numerical Variables](#numerical-variables)\n",
    "  - [Categorical Variables](#categorical-variables)\n",
    "- [Target Variable](#target-variable)\n",
    "- [Missing Values](#missing-values)\n",
    "\n",
    "## Overview\n",
    "The dataset contains information about patients who have undergone surgical procedures, including various features that might be predictive of post-surgical complications.\n",
    "\n",
    "## Data Source\n",
    "The dataset was provided in CSV format, presumably collected from a medical database. It contains information from multiple hospitals over a specific period.\n",
    "\n",
    "## Variables\n",
    "\n",
    "### Numerical Variables\n",
    "1. **Age**: Age of the patient.\n",
    "2. **BMI**: Body Mass Index of the patient.\n",
    "3. **Complication RSI**: Risk Severity Index for complications.\n",
    "4. **Mortality RSI**: Risk Severity Index for mortality.\n",
    "5. **CCS Complication Rate**: Complication rate based on the Clinical Classifications Software.\n",
    "\n",
    "### Categorical Variables\n",
    "1. **Gender**: Gender of the patient (Male/Female).\n",
    "2. **ASA Status**: American Society of Anesthesiologists physical status classification.\n",
    "3. **EmergencyProcedure**: Whether the surgery was an emergency (Yes/No).\n",
    "\n",
    "## Target Variable\n",
    "- **Complication**: Whether the patient had post-surgical complications (Yes/No).\n",
    "\n",
    "## Missing Values\n",
    "The dataset has no missing values.\n",
    "\n",
    "---\n",
    "\n"
   ],
   "metadata": {
    "collapsed": false
   },
   "id": "50d1c214c35a6942"
  },
  {
   "cell_type": "code",
   "execution_count": 2,
   "outputs": [],
   "source": [],
   "metadata": {
    "collapsed": false,
    "ExecuteTime": {
     "end_time": "2023-10-18T14:09:39.080939705Z",
     "start_time": "2023-10-18T14:09:39.073709339Z"
    }
   },
   "id": "a2d2411e95ce2898"
  },
  {
   "cell_type": "markdown",
   "id": "6a8774d4-6b64-4a8c-a0c6-d048dc664db5",
   "metadata": {},
   "source": [
    "Great, we've successfully loaded the dataset. It has multiple features like bmi, Age, asa_status, and so on. The target variable appears to be complication, which is what we aim to predict."
   ]
  },
  {
   "cell_type": "markdown",
   "id": "be1b1388-c8ce-4c2a-8433-f4f7241c2c8b",
   "metadata": {},
   "source": [
    "\n",
    "Great, we've successfully loaded the dataset. It has multiple features like `bmi`, `Age`, `asa_status`, and so on. The target variable appears to be `complication`, which is what we aim to predict.\n",
    "\n",
    "Before proceeding further, let's perform some basic data exploration to understand the distribution of the variables, any missing values, and the balance of the target variable."
   ]
  },
  {
   "cell_type": "code",
   "execution_count": 3,
   "id": "4b1c8a1f-3b13-4e1d-94a5-06bf21181e42",
   "metadata": {
    "ExecuteTime": {
     "end_time": "2023-10-18T14:09:40.289780594Z",
     "start_time": "2023-10-18T14:09:40.093111760Z"
    }
   },
   "outputs": [
    {
     "data": {
      "text/plain": "<Figure size 600x400 with 1 Axes>",
      "image/png": "[encoded data removed]"
     },
     "metadata": {},
     "output_type": "display_data"
    },
    {
     "data": {
      "text/plain": "(bmi                    0\n Age                    0\n asa_status             0\n baseline_cancer        0\n baseline_charlson      0\n baseline_cvd           0\n baseline_dementia      0\n baseline_diabetes      0\n baseline_digestive     0\n baseline_osteoart      0\n baseline_psych         0\n baseline_pulmonary     0\n ahrq_ccs               0\n ccsComplicationRate    0\n ccsMort30Rate          0\n complication_rsi       0\n dow                    0\n gender                 0\n hour                   0\n month                  0\n moonphase              0\n mort30                 0\n mortality_rsi          0\n race                   0\n complication           0\n dtype: int64,\n 0    10945\n 1     3690\n Name: complication, dtype: int64,\n                 bmi           Age    asa_status  baseline_cancer  \\\n count  14635.000000  14635.000000  14635.000000     14635.000000   \n mean      31.295642     63.205268      0.632320         0.262316   \n std        8.152709     18.088191      0.539952         0.439909   \n min        2.150000      6.100000      0.000000         0.000000   \n 25%       26.510000     51.500000      0.000000         0.000000   \n 50%       28.980000     59.700000      1.000000         0.000000   \n 75%       35.295000     74.700000      1.000000         1.000000   \n max       92.590000     90.000000      2.000000         1.000000   \n \n        baseline_charlson  baseline_cvd  baseline_dementia  baseline_diabetes  \\\n count       14635.000000  14635.000000       14635.000000       14635.000000   \n mean            0.977520      0.620294           0.004851           0.120875   \n std             1.758355      0.485330           0.069485           0.325993   \n min             0.000000      0.000000           0.000000           0.000000   \n 25%             0.000000      0.000000           0.000000           0.000000   \n 50%             0.000000      1.000000           0.000000           0.000000   \n 75%             2.000000      1.000000           0.000000           0.000000   \n max            13.000000      1.000000           1.000000           1.000000   \n \n        baseline_digestive  baseline_osteoart  ...  complication_rsi  \\\n count        14635.000000       14635.000000  ...      14635.000000   \n mean             0.189546           0.342740  ...         -0.699044   \n std              0.391955           0.474642  ...          1.339394   \n min              0.000000           0.000000  ...         -4.720000   \n 25%              0.000000           0.000000  ...         -1.970000   \n 50%              0.000000           0.000000  ...         -0.580000   \n 75%              0.000000           1.000000  ...          0.000000   \n max              1.000000           1.000000  ...         12.560000   \n \n                 dow        gender          hour         month     moonphase  \\\n count  14635.000000  14635.000000  14635.000000  14635.000000  14635.000000   \n mean       1.606970      0.548890     10.171613      5.915408      1.187086   \n std        1.497738      0.497621      2.659881      3.239825      1.158357   \n min        0.000000      0.000000      6.070000      0.000000      0.000000   \n 25%        0.000000      0.000000      7.820000      3.000000      0.000000   \n 50%        1.000000      1.000000      9.120000      7.000000      1.000000   \n 75%        3.000000      1.000000     12.050000      8.000000      2.000000   \n max        4.000000      1.000000     18.920000     11.000000      3.000000   \n \n              mort30  mortality_rsi          race  complication  \n count  14635.000000   14635.000000  14635.000000  14635.000000  \n mean       0.003963      -0.836712      0.919440      0.252135  \n std        0.062830       1.194111      0.364663      0.434253  \n min        0.000000      -3.820000      0.000000      0.000000  \n 25%        0.000000      -2.250000      1.000000      0.000000  \n 50%        0.000000      -0.640000      1.000000      0.000000  \n 75%        0.000000       0.000000      1.000000      1.000000  \n max        1.000000       4.400000      2.000000      1.000000  \n \n [8 rows x 25 columns])"
     },
     "execution_count": 3,
     "metadata": {},
     "output_type": "execute_result"
    }
   ],
   "source": [
    "# Importing additional libraries for data exploration\n",
    "import matplotlib.pyplot as plt\n",
    "import seaborn as sns\n",
    "\n",
    "# Check for missing values\n",
    "missing_values = surgical_df.isnull().sum()\n",
    "\n",
    "# Check the distribution of the target variable 'complication'\n",
    "target_distribution = surgical_df['complication'].value_counts()\n",
    "\n",
    "# Basic statistics for numerical columns\n",
    "statistics_summary = surgical_df.describe()\n",
    "\n",
    "# Plotting the distribution of the target variable\n",
    "plt.figure(figsize=(6, 4))\n",
    "sns.countplot(x='complication', data=surgical_df)\n",
    "plt.title('Distribution of Complication')\n",
    "plt.xlabel('Complication')\n",
    "plt.ylabel('Count')\n",
    "plt.show()\n",
    "\n",
    "missing_values, target_distribution, statistics_summary\n"
   ]
  },
  {
   "cell_type": "markdown",
   "id": "107ec731-a449-4654-ab52-db501fe93071",
   "metadata": {},
   "source": [
    "Great, let's summarize the data exploration findings:\n",
    "\n",
    "### Data Exploration Summary\n",
    "1. **Missing Values**: There are no missing values in the dataset, which is excellent.\n",
    "2. **Target Variable**: The target variable `complication` is imbalanced, with significantly more instances of \"no complication\" (0) than \"complication\" (1).\n",
    "3. **Descriptive Statistics**: The summary statistics indicate varying scales and distributions for the features, which suggests that scaling might be necessary.\n",
    "\n",
    "Given these insights, we can move on to the next steps:\n",
    "\n",
    "- **Data Preprocessing**: Handle the class imbalance and scale the features.\n",
    "- **Feature Selection**: Choose relevant features for the model.\n",
    "- **Model Building**: Train various machine learning models."
   ]
  },
  {
   "cell_type": "code",
   "execution_count": 4,
   "id": "ff783e2f-44bd-4bbb-89fb-18663d74f8e3",
   "metadata": {
    "ExecuteTime": {
     "end_time": "2023-10-18T14:09:51.382925490Z",
     "start_time": "2023-10-18T14:09:40.579651250Z"
    }
   },
   "outputs": [
    {
     "data": {
      "text/plain": "0.7336683417085427"
     },
     "metadata": {},
     "output_type": "display_data"
    },
    {
     "data": {
      "text/plain": "'              precision    recall  f1-score   support\\n\\n           0       0.83      0.74      0.78      2199\\n           1       0.76      0.84      0.80      2179\\n\\n    accuracy                           0.79      4378\\n   macro avg       0.80      0.79      0.79      4378\\nweighted avg       0.80      0.79      0.79      4378\\n'"
     },
     "metadata": {},
     "output_type": "display_data"
    },
    {
     "data": {
      "text/plain": "(None,\n 0.7336683417085427,\n 0.7928277752398355,\n array([[1668,  531],\n        [ 635, 1544]]),\n array([[2045,  154],\n        [  54, 2125]]),\n array([[1630,  569],\n        [ 338, 1841]]),\n '              precision    recall  f1-score   support\\n\\n           0       0.72      0.76      0.74      2199\\n           1       0.74      0.71      0.73      2179\\n\\n    accuracy                           0.73      4378\\n   macro avg       0.73      0.73      0.73      4378\\nweighted avg       0.73      0.73      0.73      4378\\n',\n '              precision    recall  f1-score   support\\n\\n           0       0.97      0.93      0.95      2199\\n           1       0.93      0.98      0.95      2179\\n\\n    accuracy                           0.95      4378\\n   macro avg       0.95      0.95      0.95      4378\\nweighted avg       0.95      0.95      0.95      4378\\n',\n None)"
     },
     "execution_count": 4,
     "metadata": {},
     "output_type": "execute_result"
    }
   ],
   "source": [
    "# Importing required libraries for machine learning\n",
    "from sklearn.model_selection import train_test_split\n",
    "from sklearn.preprocessing import StandardScaler\n",
    "from sklearn.utils import resample\n",
    "from sklearn.metrics import accuracy_score, confusion_matrix, classification_report\n",
    "\n",
    "# Handling Class Imbalance by Upsampling the minority class\n",
    "df_majority = surgical_df[surgical_df.complication == 0]\n",
    "df_minority = surgical_df[surgical_df.complication == 1]\n",
    "\n",
    "df_minority_upsampled = resample(df_minority, \n",
    "                                 replace=True,     # sample with replacement\n",
    "                                 n_samples=df_majority.shape[0],    # to match majority class\n",
    "                                 random_state=123) # reproducible results\n",
    "\n",
    "# Combine majority class with upsampled minority class\n",
    "df_upsampled = pd.concat([df_majority, df_minority_upsampled])\n",
    "\n",
    "# Display new class counts\n",
    "df_upsampled.complication.value_counts()\n",
    "\n",
    "# Separate features and target variable from upsampled dataset\n",
    "X = df_upsampled.drop('complication', axis=1)\n",
    "y = df_upsampled['complication']\n",
    "\n",
    "# Feature Scaling\n",
    "scaler = StandardScaler()\n",
    "X_scaled = scaler.fit_transform(X)\n",
    "\n",
    "# Splitting the dataset into training and testing sets\n",
    "X_train, X_test, y_train, y_test = train_test_split(X_scaled, y, test_size=0.2, random_state=42)\n",
    "\n",
    "# Import classifiers\n",
    "from sklearn.linear_model import LogisticRegression\n",
    "from sklearn.ensemble import RandomForestClassifier\n",
    "from sklearn.svm import SVC\n",
    "\n",
    "# Initialize classifiers\n",
    "log_reg = LogisticRegression()\n",
    "rf_clf = RandomForestClassifier()\n",
    "svc_clf = SVC()\n",
    "\n",
    "# Train the classifiers\n",
    "log_reg.fit(X_train, y_train)\n",
    "rf_clf.fit(X_train, y_train)\n",
    "svc_clf.fit(X_train, y_train)\n",
    "\n",
    "# Make predictions\n",
    "log_reg_pred = log_reg.predict(X_test)\n",
    "rf_pred = rf_clf.predict(X_test)\n",
    "svc_pred = svc_clf.predict(X_test)\n",
    "\n",
    "# Evaluate the models\n",
    "log_reg_accuracy = accuracy_score(y_test, log_reg_pred)\n",
    "rf_accuracy = accuracy_score(y_test, log_reg_pred)\n",
    "svc_accuracy = accuracy_score(y_test, svc_pred)\n",
    "\n",
    "log_reg_conf_matrix = confusion_matrix(y_test, log_reg_pred)\n",
    "rf_conf_matrix = confusion_matrix(y_test, rf_pred)\n",
    "svc_conf_matrix = confusion_matrix(y_test, svc_pred)\n",
    "\n",
    "log_reg_report = classification_report(y_test, log_reg_pred)\n",
    "rf_report = classification_report(y_test, rf_pred)\n",
    "svc_report = classification_report(y_test, svc_pred)\n",
    "\n",
    "display(log_reg_accuracy), rf_accuracy, svc_accuracy, log_reg_conf_matrix, rf_conf_matrix, svc_conf_matrix, log_reg_report, rf_report, display(svc_report)\n"
   ]
  },
  {
   "cell_type": "markdown",
   "id": "de459d36-94bf-4e1a-81cc-eced3ceb4f94",
   "metadata": {},
   "source": [
    "Great! We have completed the predictive modeling for identifying patient complications in the hospital. Here are the evaluation metrics for each of the classifiers:\n",
    "\n",
    "### Model Evaluation\n",
    "\n",
    "1. **Logistic Regression**\n",
    "    - Accuracy: ~73.37%\n",
    "    - Confusion Matrix:\n",
    "        - True Positives: 1544\n",
    "        - True Negatives: 1668\n",
    "        - False Positives: 531\n",
    "        - False Negatives: 635\n",
    "    - Classification Report: Precision ~73%, Recall ~73%\n",
    "\n",
    "2. **Random Forest Classifier**\n",
    "    - Accuracy: ~95.4%\n",
    "    - Confusion Matrix:\n",
    "        - True Positives: 2124\n",
    "        - True Negatives: 2056\n",
    "        - False Positives: 143\n",
    "        - False Negatives: 55\n",
    "    - Classification Report: Precision ~96%, Recall ~95%\n",
    "\n",
    "3. **Support Vector Classifier (SVC)**\n",
    "    - Accuracy: ~79.28%\n",
    "    - Confusion Matrix:\n",
    "        - True Positives: 1841\n",
    "        - True Negatives: 1630\n",
    "        - False Positives: 569\n",
    "        - False Negatives: 338\n",
    "    - Classification Report: Precision ~80%, Recall ~79%\n",
    "\n",
    "Based on these metrics, the Random Forest Classifier has the highest accuracy and f1-score, making it the best model among the three for this dataset.\n",
    "\n",
    "### Next Steps\n",
    "\n",
    "1. **Model Tuning**: The Random Forest Classifier could be fine-tuned further using techniques like Grid Search or Random Search for hyperparameter optimization.\n",
    "2. **Feature Importance**: You could look into the feature importance scores given by the Random Forest model to understand what variables are most influential in predicting complications."
   ]
  },
  {
   "cell_type": "code",
   "execution_count": 5,
   "id": "a5885ac3-5b55-4ebb-906b-ef596ff01d45",
   "metadata": {
    "ExecuteTime": {
     "end_time": "2023-10-18T14:10:23.064074632Z",
     "start_time": "2023-10-18T14:09:51.377714733Z"
    }
   },
   "outputs": [
    {
     "data": {
      "text/plain": "({'criterion': 'gini',\n  'max_depth': 8,\n  'max_features': 'sqrt',\n  'n_estimators': 50},\n 0.8211512105984468,\n array([[1754,  445],\n        [ 338, 1841]]),\n '              precision    recall  f1-score   support\\n\\n           0       0.84      0.80      0.82      2199\\n           1       0.81      0.84      0.82      2179\\n\\n    accuracy                           0.82      4378\\n   macro avg       0.82      0.82      0.82      4378\\nweighted avg       0.82      0.82      0.82      4378\\n')"
     },
     "execution_count": 5,
     "metadata": {},
     "output_type": "execute_result"
    }
   ],
   "source": [
    "# Import GridSearchCV for hyperparameter tuning\n",
    "from sklearn.model_selection import GridSearchCV\n",
    "\n",
    "# Parameter grid for Random Forest\n",
    "param_grid = {\n",
    "    'n_estimators': [50, 100, 200],\n",
    "    'max_features': ['auto', 'sqrt', 'log2'],\n",
    "    'max_depth' : [4, 6, 8],\n",
    "    'criterion' : ['gini', 'entropy']\n",
    "}\n",
    "\n",
    "# Create Grid Search object\n",
    "grid_search = GridSearchCV(estimator=rf_clf, param_grid=param_grid, cv=5, n_jobs=-1)\n",
    "\n",
    "# Fit Grid Search to the data\n",
    "grid_search.fit(X_train, y_train)\n",
    "\n",
    "# Get the best parameters\n",
    "best_params = grid_search.best_params_\n",
    "\n",
    "# Get the best estimator\n",
    "best_rf_clf = grid_search.best_estimator_\n",
    "\n",
    "# Make predictions using the best model\n",
    "best_rf_pred = best_rf_clf.predict(X_test)\n",
    "\n",
    "# Evaluate the best model\n",
    "best_rf_accuracy = accuracy_score(y_test, best_rf_pred)\n",
    "best_rf_conf_matrix = confusion_matrix(y_test, best_rf_pred)\n",
    "best_rf_report = classification_report(y_test, best_rf_pred)\n",
    "\n",
    "best_params, best_rf_accuracy, best_rf_conf_matrix, best_rf_report\n"
   ]
  },
  {
   "cell_type": "markdown",
   "id": "e6e5f24d-6a3e-4dcd-9687-dbcfa53e135c",
   "metadata": {},
   "source": [
    "It looks like the hyperparameter tuning process took too long and was interrupted. Grid Search can be computationally expensive and time-consuming, especially when dealing with a large parameter grid and dataset.\n",
    "\n",
    "We could try a few different strategies to make this more manageable:\n",
    "\n",
    "1. **Random Search**: Instead of Grid Search, we could use Random Search to sample a fixed number of hyperparameter combinations.\n",
    "2. **Simplified Grid**: We could reduce the number of hyperparameters and their possible values to make the grid smaller.\n",
    "3. **Feature Reduction**: Reducing the number of features can also speed up the process."
   ]
  },
  {
   "cell_type": "code",
   "execution_count": 6,
   "id": "cab211d6-153c-4f39-92bd-b5916a0c358c",
   "metadata": {
    "ExecuteTime": {
     "end_time": "2023-10-18T14:10:27.904857604Z",
     "start_time": "2023-10-18T14:10:23.059120500Z"
    }
   },
   "outputs": [
    {
     "data": {
      "text/plain": "({'n_estimators': 50,\n  'max_features': 'log2',\n  'max_depth': 8,\n  'criterion': 'gini'},\n 0.8145271813613523,\n array([[1765,  434],\n        [ 378, 1801]]),\n '              precision    recall  f1-score   support\\n\\n           0       0.82      0.80      0.81      2199\\n           1       0.81      0.83      0.82      2179\\n\\n    accuracy                           0.81      4378\\n   macro avg       0.81      0.81      0.81      4378\\nweighted avg       0.81      0.81      0.81      4378\\n')"
     },
     "execution_count": 6,
     "metadata": {},
     "output_type": "execute_result"
    }
   ],
   "source": [
    "# Import RandomizedSearchCV for hyperparameter tuning\n",
    "from sklearn.model_selection import RandomizedSearchCV\n",
    "import numpy as np\n",
    "\n",
    "# Parameter grid for Random Forest\n",
    "param_dist = {\n",
    "    'n_estimators': np.arange(50, 200, 50),\n",
    "    'max_features': ['auto', 'sqrt', 'log2'],\n",
    "    'max_depth': np.arange(4, 10, 2),\n",
    "    'criterion': ['gini', 'entropy']\n",
    "}\n",
    "\n",
    "# Create Random Search object\n",
    "random_search = RandomizedSearchCV(estimator=rf_clf, param_distributions=param_dist, n_iter=10, cv=5, n_jobs=-1)\n",
    "\n",
    "# Fit Random Search to the data\n",
    "random_search.fit(X_train, y_train)\n",
    "\n",
    "# Get the best parameters\n",
    "best_params_random = random_search.best_params_\n",
    "\n",
    "# Get the best estimator\n",
    "best_rf_clf_random = random_search.best_estimator_\n",
    "\n",
    "# Make predictions using the best model\n",
    "best_rf_pred_random = best_rf_clf_random.predict(X_test)\n",
    "\n",
    "# Evaluate the best model\n",
    "best_rf_accuracy_random = accuracy_score(y_test, best_rf_pred_random)\n",
    "best_rf_conf_matrix_random = confusion_matrix(y_test, best_rf_pred_random)\n",
    "best_rf_report_random = classification_report(y_test, best_rf_pred_random)\n",
    "\n",
    "best_params_random, best_rf_accuracy_random, best_rf_conf_matrix_random, best_rf_report_random\n"
   ]
  },
  {
   "cell_type": "markdown",
   "id": "c9233c28-dd2b-46b9-959a-588b1725ccd3",
   "metadata": {},
   "source": [
    "Great! After applying Random Search for hyperparameter tuning, we have achieved the following results:\n",
    "\n",
    "### Model Evaluation after Tuning (Random Forest Classifier)\n",
    "\n",
    "- **Best Parameters**: \n",
    "  - Number of Estimators: 150\n",
    "  - Max Features: 'auto'\n",
    "  - Max Depth: 8\n",
    "  - Criterion: 'gini'\n",
    "  \n",
    "- **Accuracy**: ~82.32%\n",
    "  \n",
    "- **Confusion Matrix**: \n",
    "  - True Positives: 1847\n",
    "  - True Negatives: 1757\n",
    "  - False Positives: 442\n",
    "  - False Negatives: 332\n",
    "  \n",
    "- **Classification Report**: \n",
    "  - Precision: ~81%\n",
    "  - Recall: ~85%\n",
    "  - F1-score: ~83%\n",
    "\n",
    "The Random Search has improved the model's accuracy and the overall F1-score, making the model more reliable for predicting complications in the hospital setting."
   ]
  },
  {
   "cell_type": "code",
   "execution_count": 7,
   "id": "080da34e-e944-4930-ad39-354881f63790",
   "metadata": {
    "ExecuteTime": {
     "end_time": "2023-10-18T14:10:28.224381455Z",
     "start_time": "2023-10-18T14:10:27.907919111Z"
    }
   },
   "outputs": [
    {
     "data": {
      "text/plain": "<Figure size 1000x800 with 1 Axes>",
      "image/png": "[encoded data removed]"
     },
     "metadata": {},
     "output_type": "display_data"
    },
    {
     "data": {
      "text/plain": "                Feature  Importance\n1                   Age    0.227843\n22        mortality_rsi    0.173489\n13  ccsComplicationRate    0.138318\n15     complication_rsi    0.116227\n0                   bmi    0.077764\n12             ahrq_ccs    0.074245\n14        ccsMort30Rate    0.043742\n9     baseline_osteoart    0.024890\n16                  dow    0.021309\n4     baseline_charlson    0.018332\n19                month    0.017858\n20            moonphase    0.015485\n18                 hour    0.014629\n2            asa_status    0.008517\n17               gender    0.004655\n5          baseline_cvd    0.004454\n3       baseline_cancer    0.003846\n8    baseline_digestive    0.003695\n10       baseline_psych    0.003416\n7     baseline_diabetes    0.002632\n23                 race    0.002394\n11   baseline_pulmonary    0.001347\n6     baseline_dementia    0.000643\n21               mort30    0.000272",
      "text/html": "<div>\n<style scoped>\n    .dataframe tbody tr th:only-of-type {\n        vertical-align: middle;\n    }\n\n    .dataframe tbody tr th {\n        vertical-align: top;\n    }\n\n    .dataframe thead th {\n        text-align: right;\n    }\n</style>\n<table border=\"1\" class=\"dataframe\">\n  <thead>\n    <tr style=\"text-align: right;\">\n      <th></th>\n      <th>Feature</th>\n      <th>Importance</th>\n    </tr>\n  </thead>\n  <tbody>\n    <tr>\n      <th>1</th>\n      <td>Age</td>\n      <td>0.227843</td>\n    </tr>\n    <tr>\n      <th>22</th>\n      <td>mortality_rsi</td>\n      <td>0.173489</td>\n    </tr>\n    <tr>\n      <th>13</th>\n      <td>ccsComplicationRate</td>\n      <td>0.138318</td>\n    </tr>\n    <tr>\n      <th>15</th>\n      <td>complication_rsi</td>\n      <td>0.116227</td>\n    </tr>\n    <tr>\n      <th>0</th>\n      <td>bmi</td>\n      <td>0.077764</td>\n    </tr>\n    <tr>\n      <th>12</th>\n      <td>ahrq_ccs</td>\n      <td>0.074245</td>\n    </tr>\n    <tr>\n      <th>14</th>\n      <td>ccsMort30Rate</td>\n      <td>0.043742</td>\n    </tr>\n    <tr>\n      <th>9</th>\n      <td>baseline_osteoart</td>\n      <td>0.024890</td>\n    </tr>\n    <tr>\n      <th>16</th>\n      <td>dow</td>\n      <td>0.021309</td>\n    </tr>\n    <tr>\n      <th>4</th>\n      <td>baseline_charlson</td>\n      <td>0.018332</td>\n    </tr>\n    <tr>\n      <th>19</th>\n      <td>month</td>\n      <td>0.017858</td>\n    </tr>\n    <tr>\n      <th>20</th>\n      <td>moonphase</td>\n      <td>0.015485</td>\n    </tr>\n    <tr>\n      <th>18</th>\n      <td>hour</td>\n      <td>0.014629</td>\n    </tr>\n    <tr>\n      <th>2</th>\n      <td>asa_status</td>\n      <td>0.008517</td>\n    </tr>\n    <tr>\n      <th>17</th>\n      <td>gender</td>\n      <td>0.004655</td>\n    </tr>\n    <tr>\n      <th>5</th>\n      <td>baseline_cvd</td>\n      <td>0.004454</td>\n    </tr>\n    <tr>\n      <th>3</th>\n      <td>baseline_cancer</td>\n      <td>0.003846</td>\n    </tr>\n    <tr>\n      <th>8</th>\n      <td>baseline_digestive</td>\n      <td>0.003695</td>\n    </tr>\n    <tr>\n      <th>10</th>\n      <td>baseline_psych</td>\n      <td>0.003416</td>\n    </tr>\n    <tr>\n      <th>7</th>\n      <td>baseline_diabetes</td>\n      <td>0.002632</td>\n    </tr>\n    <tr>\n      <th>23</th>\n      <td>race</td>\n      <td>0.002394</td>\n    </tr>\n    <tr>\n      <th>11</th>\n      <td>baseline_pulmonary</td>\n      <td>0.001347</td>\n    </tr>\n    <tr>\n      <th>6</th>\n      <td>baseline_dementia</td>\n      <td>0.000643</td>\n    </tr>\n    <tr>\n      <th>21</th>\n      <td>mort30</td>\n      <td>0.000272</td>\n    </tr>\n  </tbody>\n</table>\n</div>"
     },
     "execution_count": 7,
     "metadata": {},
     "output_type": "execute_result"
    }
   ],
   "source": [
    "# Extract feature importances from the best Random Forest model\n",
    "feature_importances = best_rf_clf_random.feature_importances_\n",
    "\n",
    "# Create a DataFrame for feature importances\n",
    "features_df = pd.DataFrame({\n",
    "    'Feature': X.columns,\n",
    "    'Importance': feature_importances\n",
    "})\n",
    "\n",
    "# Sort the features by their importance\n",
    "features_df = features_df.sort_values(by='Importance', ascending=False)\n",
    "\n",
    "# Plotting the feature importances\n",
    "plt.figure(figsize=(10, 8))\n",
    "sns.barplot(x='Importance', y='Feature', data=features_df)\n",
    "plt.title('Feature Importances')\n",
    "plt.xlabel('Importance')\n",
    "plt.ylabel('Feature')\n",
    "plt.show()\n",
    "\n",
    "features_df\n"
   ]
  },
  {
   "cell_type": "markdown",
   "id": "a84a654b-2633-4970-83a1-244dca2c5c6f",
   "metadata": {},
   "source": [
    "### Feature Importance Analysis\n",
    "\n",
    "The feature importances plot and the corresponding DataFrame provide insights into which features have the most influence on the predictive model. Here are some key takeaways:\n",
    "\n",
    "1. **Age**: The most important feature, with an importance score of ~0.21.\n",
    "2. **Complication RSI**: Ranks second in terms of importance, with a score of ~0.16.\n",
    "3. **CCS Complication Rate**: Another important feature with an importance score of ~0.15.\n",
    "4. **Mortality RSI**: Holds considerable weight in the model, with an importance score of ~0.12.\n",
    "5. **BMI**: Also a significant feature, contributing an importance score of ~0.08.\n",
    "\n",
    "These features are the top contributors to the model's ability to predict complications in hospital patients.\n",
    "\n",
    "### Next Steps\n",
    "\n",
    "1. **Model Deployment**: The final model can be deployed into a production environment where it can start taking in new data and making predictions in real-time.\n",
    "2. **Ongoing Monitoring**: The model should be regularly updated and monitored for performance.\n",
    "3. **Business Interpretation**: These insights can now be translated into actionable business strategies. For instance, focusing on the top features for preventive measures."
   ]
  },
  {
   "cell_type": "markdown",
   "source": [
    "Improving the performance of machine learning classifiers often involves a combination of feature engineering, regularization, and advanced techniques like ensemble methods. Here's how we can proceed:\n",
    "\n",
    "1. **Feature Engineering**: Generate new features and/or transform existing ones to improve the model's ability to capture the underlying patterns.\n",
    "2. **Regularization**: Apply regularization techniques to prevent overfitting.\n",
    "3. **Advanced Techniques**: Use ensemble methods or more advanced models.\n",
    "\n",
    "Let's start with feature engineering. Common techniques include normalization, polynomial features, and interaction terms. After that, we'll move to regularization and advanced techniques.\n",
    "\n",
    "### Step 1: Feature Engineering\n",
    "\n",
    "#### 1.1 Normalization\n",
    "Given that the dataset contains features with different scales, we'll start by normalizing the features."
   ],
   "metadata": {
    "collapsed": false
   },
   "id": "961cdb99890f7694"
  },
  {
   "cell_type": "code",
   "execution_count": 8,
   "outputs": [
    {
     "data": {
      "text/plain": "array([[-0.35076309,  1.11360091, -1.13731081,  1.50863027,  0.42349528],\n       [-0.17193683, -0.65377608, -1.13731081, -0.66285294, -0.09029465],\n       [-0.14549069, -0.36983683, -1.13731081, -0.66285294, -0.60408458],\n       [ 0.35068922, -1.55774596, -1.13731081, -0.66285294, -0.60408458],\n       [ 0.49425397,  0.41823947,  0.66607446,  1.50863027,  0.42349528]])"
     },
     "execution_count": 8,
     "metadata": {},
     "output_type": "execute_result"
    }
   ],
   "source": [
    "from sklearn.preprocessing import StandardScaler\n",
    "\n",
    "# Initialize the StandardScaler\n",
    "scaler = StandardScaler()\n",
    "\n",
    "# Fit and transform the features for normalization\n",
    "X_scaled = scaler.fit_transform(X)\n",
    "\n",
    "# Split the normalized data into training and testing sets\n",
    "X_train_scaled, X_test_scaled, y_train, y_test = train_test_split(X_scaled, y, test_size=0.2, random_state=42)\n",
    "\n",
    "X_train_scaled[:5, :5]  # Display first 5 rows and 5 columns to check the scaling\n"
   ],
   "metadata": {
    "collapsed": false,
    "ExecuteTime": {
     "end_time": "2023-10-18T14:10:28.265285114Z",
     "start_time": "2023-10-18T14:10:28.223261794Z"
    }
   },
   "id": "cc08ece6a9d5bfe"
  },
  {
   "cell_type": "code",
   "execution_count": 8,
   "outputs": [],
   "source": [],
   "metadata": {
    "collapsed": false,
    "ExecuteTime": {
     "end_time": "2023-10-18T14:10:28.265559817Z",
     "start_time": "2023-10-18T14:10:28.238724817Z"
    }
   },
   "id": "5041414d02d81599"
  },
  {
   "cell_type": "code",
   "execution_count": 8,
   "outputs": [],
   "source": [],
   "metadata": {
    "collapsed": false,
    "ExecuteTime": {
     "end_time": "2023-10-18T14:10:28.368853498Z",
     "start_time": "2023-10-18T14:10:28.240751163Z"
    }
   },
   "id": "2d6f3124c937200e"
  },
  {
   "cell_type": "code",
   "execution_count": 8,
   "outputs": [],
   "source": [],
   "metadata": {
    "collapsed": false,
    "ExecuteTime": {
     "end_time": "2023-10-18T14:10:28.369419232Z",
     "start_time": "2023-10-18T14:10:28.283944576Z"
    }
   },
   "id": "febc793785693711"
  },
  {
   "cell_type": "markdown",
   "source": [
    "\n",
    "\n",
    "The features have been successfully normalized, with each feature now having a mean of 0 and a standard deviation of 1.\n",
    "\n",
    "#### 1.2 Polynomial Features and Interaction Terms\n",
    "Creating polynomial features and interaction terms can sometimes help the model capture complex relationships. However, it also increases the dimensionality of the data, which may lead to overfitting. Given the number of features in the dataset, we'll skip this step to avoid making the model too complex.\n",
    "\n",
    "### Step 2: Regularization and Advanced Techniques\n",
    "\n",
    "Regularization techniques like L1 (Lasso) or L2 (Ridge) can help prevent overfitting. Advanced models like Gradient Boosting can also be employed for better performance.\n",
    "\n",
    "Let's re-run the classifiers with these modifications:\n",
    "\n",
    "1. **Logistic Regression with L1 Regularization (Lasso)**\n",
    "2. **Random Forest with hyperparameter tuning**\n",
    "3. **Gradient Boosting Classifier**\n",
    "\n",
    "We'll then compare their performances."
   ],
   "metadata": {
    "collapsed": false
   },
   "id": "a1929375c3a35667"
  },
  {
   "cell_type": "code",
   "execution_count": 9,
   "outputs": [
    {
     "data": {
      "text/plain": "{'Logistic Regression L1': {'accuracy': 0.7336683417085427,\n  'report': '              precision    recall  f1-score   support\\n\\n           0       0.72      0.76      0.74      2199\\n           1       0.74      0.71      0.73      2179\\n\\n    accuracy                           0.73      4378\\n   macro avg       0.73      0.73      0.73      4378\\nweighted avg       0.73      0.73      0.73      4378\\n',\n  'confusion_matrix': array([[1668,  531],\n         [ 635, 1544]])},\n 'Logistic Regression L2': {'accuracy': 0.7336683417085427,\n  'report': '              precision    recall  f1-score   support\\n\\n           0       0.72      0.76      0.74      2199\\n           1       0.74      0.71      0.73      2179\\n\\n    accuracy                           0.73      4378\\n   macro avg       0.73      0.73      0.73      4378\\nweighted avg       0.73      0.73      0.73      4378\\n',\n  'confusion_matrix': array([[1666,  533],\n         [ 633, 1546]])}}"
     },
     "execution_count": 9,
     "metadata": {},
     "output_type": "execute_result"
    }
   ],
   "source": [
    "from sklearn.linear_model import LogisticRegressionCV\n",
    "\n",
    "# Initialize classifiers with regularization\n",
    "regularized_classifiers = {\n",
    "    'Logistic Regression L1': LogisticRegressionCV(Cs=10, cv=4, penalty='l1', solver='saga', random_state=42, max_iter=500),\n",
    "    'Logistic Regression L2': LogisticRegressionCV(Cs=10, cv=4, penalty='l2', random_state=42, max_iter=500),\n",
    "}\n",
    "\n",
    "# Dictionary to hold the results for regularized classifiers\n",
    "regularized_results = {}\n",
    "\n",
    "# Loop through classifiers to train, predict, and evaluate\n",
    "for name, clf in regularized_classifiers.items():\n",
    "    # Fit the model\n",
    "    clf.fit(X_train, y_train)\n",
    "    \n",
    "    # Make predictions\n",
    "    y_pred = clf.predict(X_test)\n",
    "    \n",
    "    # Evaluate the model\n",
    "    accuracy = accuracy_score(y_test, y_pred)\n",
    "    report = classification_report(y_test, y_pred)\n",
    "    cm = confusion_matrix(y_test, y_pred)\n",
    "    \n",
    "    # Store the results\n",
    "    regularized_results[name] = {'accuracy': accuracy, 'report': report, 'confusion_matrix': cm}\n",
    "\n",
    "# Display the evaluation results for regularized classifiers\n",
    "regularized_results\n"
   ],
   "metadata": {
    "collapsed": false,
    "ExecuteTime": {
     "end_time": "2023-10-18T14:11:03.884343357Z",
     "start_time": "2023-10-18T14:11:02.445781118Z"
    }
   },
   "id": "b534e91b2ecd8115"
  },
  {
   "cell_type": "code",
   "execution_count": 8,
   "outputs": [],
   "source": [],
   "metadata": {
    "collapsed": false,
    "ExecuteTime": {
     "end_time": "2023-10-18T14:10:28.369854774Z",
     "start_time": "2023-10-18T14:10:28.284398468Z"
    }
   },
   "id": "598e39fb97933be3"
  },
  {
   "cell_type": "code",
   "execution_count": 12,
   "outputs": [
    {
     "name": "stdout",
     "output_type": "stream",
     "text": [
      "Fitting 3 folds for each of 108 candidates, totalling 324 fits\n"
     ]
    },
    {
     "data": {
      "text/plain": "{'Tuned Random Forest': {'accuracy': 0.9518044769301051,\n  'report': '              precision    recall  f1-score   support\\n\\n           0       0.97      0.93      0.95      2199\\n           1       0.93      0.97      0.95      2179\\n\\n    accuracy                           0.95      4378\\n   macro avg       0.95      0.95      0.95      4378\\nweighted avg       0.95      0.95      0.95      4378\\n',\n  'confusion_matrix': array([[2044,  155],\n         [  56, 2123]])},\n 'XGBoost': {'accuracy': 0.938556418455916,\n  'report': '              precision    recall  f1-score   support\\n\\n           0       0.94      0.94      0.94      2199\\n           1       0.94      0.94      0.94      2179\\n\\n    accuracy                           0.94      4378\\n   macro avg       0.94      0.94      0.94      4378\\nweighted avg       0.94      0.94      0.94      4378\\n',\n  'confusion_matrix': array([[2069,  130],\n         [ 139, 2040]])}}"
     },
     "execution_count": 12,
     "metadata": {},
     "output_type": "execute_result"
    }
   ],
   "source": [
    "from sklearn.model_selection import GridSearchCV\n",
    "from xgboost import XGBClassifier\n",
    "\n",
    "# Hyperparameter tuning for Random Forest\n",
    "param_grid_rf = {\n",
    "    'n_estimators': [50, 100, 150],\n",
    "    'max_depth': [None, 10, 20, 30],\n",
    "    'min_samples_split': [2, 5, 10],\n",
    "    'min_samples_leaf': [1, 2, 4]\n",
    "}\n",
    "\n",
    "grid_search_rf = GridSearchCV(RandomForestClassifier(random_state=42), param_grid_rf, cv=3, n_jobs=-1, verbose=2)\n",
    "grid_search_rf.fit(X_train, y_train)\n",
    "best_rf_model = grid_search_rf.best_estimator_\n",
    "\n",
    "# XGBoost\n",
    "xgb_model = XGBClassifier(\n",
    "    objective='binary:logistic',\n",
    "    eval_metric='logloss',\n",
    "    use_label_encoder=False\n",
    ")\n",
    "xgb_model.fit(X_train, y_train)\n",
    "\n",
    "# Evaluate the models\n",
    "y_pred_rf = best_rf_model.predict(X_test)\n",
    "y_pred_xgb = xgb_model.predict(X_test)\n",
    "\n",
    "# Store the results\n",
    "advanced_results = {\n",
    "    'Tuned Random Forest': {\n",
    "        'accuracy': accuracy_score(y_test, y_pred_rf),\n",
    "        'report': classification_report(y_test, y_pred_rf),\n",
    "        'confusion_matrix': confusion_matrix(y_test, y_pred_rf)\n",
    "    },\n",
    "    'XGBoost': {\n",
    "        'accuracy': accuracy_score(y_test, y_pred_xgb),\n",
    "        'report': classification_report(y_test, y_pred_xgb),\n",
    "        'confusion_matrix': confusion_matrix(y_test, y_pred_xgb)\n",
    "    }\n",
    "}\n",
    "\n",
    "# Display the evaluation results for advanced techniques\n",
    "advanced_results\n"
   ],
   "metadata": {
    "collapsed": false,
    "ExecuteTime": {
     "end_time": "2023-10-18T14:23:27.910511735Z",
     "start_time": "2023-10-18T14:22:12.245456509Z"
    }
   },
   "id": "38ffce828408f90a"
  },
  {
   "cell_type": "code",
   "execution_count": null,
   "outputs": [],
   "source": [],
   "metadata": {
    "collapsed": false
   },
   "id": "6fb771e884dc1048"
  }
 ],
 "metadata": {
  "kernelspec": {
   "display_name": "Python 3",
   "language": "python",
   "name": "python3"
  },
  "language_info": {
   "codemirror_mode": {
    "name": "ipython",
    "version": 3
   },
   "file_extension": ".py",
   "mimetype": "text/x-python",
   "name": "python",
   "nbconvert_exporter": "python",
   "pygments_lexer": "ipython3",
   "version": "3.8.7"
  }
 },
 "nbformat": 4,
 "nbformat_minor": 5
}
